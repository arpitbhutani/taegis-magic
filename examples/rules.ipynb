{
 "cells": [
  {
   "cell_type": "code",
   "execution_count": null,
   "id": "4c78771d",
   "metadata": {
    "ExecuteTime": {
     "end_time": "2023-07-28T14:51:25.899770Z",
     "start_time": "2023-07-28T14:51:25.896698Z"
    }
   },
   "outputs": [],
   "source": [
    "%load_ext taegis_magic\n",
    "\n",
    "from taegis_magic.pandas.rules import inflate_filters\n",
    "import pandas as pd\n",
    "\n",
    "pd.set_option(\"display.max_columns\", None)"
   ]
  },
  {
   "cell_type": "code",
   "execution_count": null,
   "id": "7312d21c",
   "metadata": {
    "ExecuteTime": {
     "end_time": "2023-07-26T17:44:08.199905Z",
     "start_time": "2023-07-26T17:43:40.767304Z"
    }
   },
   "outputs": [],
   "source": [
    "%taegis rules type --rule-type QL --assign ql_rules"
   ]
  },
  {
   "cell_type": "code",
   "execution_count": null,
   "id": "b3c51ce0",
   "metadata": {
    "ExecuteTime": {
     "end_time": "2023-07-26T17:46:52.262364Z",
     "start_time": "2023-07-26T17:44:08.201216Z"
    }
   },
   "outputs": [],
   "source": [
    "%taegis rules type --rule-type REGEX --assign regex_rules"
   ]
  },
  {
   "cell_type": "code",
   "execution_count": null,
   "id": "19846ab2",
   "metadata": {
    "ExecuteTime": {
     "end_time": "2023-07-26T18:26:17.406725Z",
     "start_time": "2023-07-26T18:23:09.220383Z"
    }
   },
   "outputs": [],
   "source": [
    "%taegis rules all --assign all_rules"
   ]
  },
  {
   "cell_type": "code",
   "execution_count": null,
   "id": "e594a20a",
   "metadata": {
    "ExecuteTime": {
     "end_time": "2023-07-26T18:34:30.957393Z",
     "start_time": "2023-07-26T18:33:31.766497Z"
    }
   },
   "outputs": [],
   "source": [
    "%taegis rules suppression --assign suppression_rules"
   ]
  },
  {
   "cell_type": "code",
   "execution_count": null,
   "id": "963c8ac5",
   "metadata": {
    "ExecuteTime": {
     "end_time": "2023-07-28T14:52:23.051272Z",
     "start_time": "2023-07-28T14:52:10.971561Z"
    }
   },
   "outputs": [],
   "source": [
    "%taegis rules rule --rule-id \"abd49642-cf06-40ed-9ff6-c8ff44d36962\" --region charlie --assign rule"
   ]
  },
  {
   "cell_type": "code",
   "execution_count": null,
   "id": "3758af69",
   "metadata": {
    "ExecuteTime": {
     "end_time": "2023-07-28T14:52:37.534365Z",
     "start_time": "2023-07-28T14:52:37.510332Z"
    }
   },
   "outputs": [],
   "source": [
    "rule.pipe(inflate_filters)"
   ]
  },
  {
   "cell_type": "code",
   "execution_count": null,
   "id": "c90804ec",
   "metadata": {
    "ExecuteTime": {
     "end_time": "2023-07-26T18:43:01.778291Z",
     "start_time": "2023-07-26T18:42:39.647243Z"
    }
   },
   "outputs": [],
   "source": [
    "%taegis rules deleted --rule-type REGEX --assign deleted_regex_rules"
   ]
  },
  {
   "cell_type": "code",
   "execution_count": null,
   "id": "96db4c2a",
   "metadata": {
    "ExecuteTime": {
     "end_time": "2023-07-26T18:50:24.922923Z",
     "start_time": "2023-07-26T18:50:22.551602Z"
    }
   },
   "outputs": [],
   "source": [
    "%taegis rules filters --event-type auth --rule-type REGEX --assign event_filter_rules"
   ]
  },
  {
   "cell_type": "code",
   "execution_count": null,
   "id": "9739877c",
   "metadata": {
    "ExecuteTime": {
     "end_time": "2023-07-26T19:58:38.533168Z",
     "start_time": "2023-07-26T19:58:36.260956Z"
    }
   },
   "outputs": [],
   "source": [
    "%taegis rules changes-since --timestamp '2023-07-25T00:00:00Z' --event-type process --rule-type REGEX --assign changes_since"
   ]
  },
  {
   "cell_type": "code",
   "execution_count": null,
   "id": "06753dce",
   "metadata": {
    "ExecuteTime": {
     "end_time": "2023-07-26T20:12:20.636133Z",
     "start_time": "2023-07-26T20:12:18.535591Z"
    }
   },
   "outputs": [],
   "source": [
    "%%taegis rules search --assign rules_search\n",
    "name CONTAINS 'Test 2'"
   ]
  }
 ],
 "metadata": {
  "kernelspec": {
   "display_name": "Python 3 (ipykernel)",
   "language": "python",
   "name": "python3"
  },
  "language_info": {
   "codemirror_mode": {
    "name": "ipython",
    "version": 3
   },
   "file_extension": ".py",
   "mimetype": "text/x-python",
   "name": "python",
   "nbconvert_exporter": "python",
   "pygments_lexer": "ipython3",
   "version": "3.9.2"
  }
 },
 "nbformat": 4,
 "nbformat_minor": 5
}
