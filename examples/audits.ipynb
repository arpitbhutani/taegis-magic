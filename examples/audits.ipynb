{
 "cells": [
  {
   "cell_type": "code",
   "execution_count": null,
   "id": "6d62b011",
   "metadata": {
    "ExecuteTime": {
     "end_time": "2023-07-28T19:51:22.834663Z",
     "start_time": "2023-07-28T19:51:22.832379Z"
    }
   },
   "outputs": [],
   "source": [
    "%load_ext taegis_magic"
   ]
  },
  {
   "cell_type": "code",
   "execution_count": null,
   "id": "4ecc0eca",
   "metadata": {
    "ExecuteTime": {
     "end_time": "2023-07-28T20:05:45.841532Z",
     "start_time": "2023-07-28T20:05:43.509006Z"
    }
   },
   "outputs": [],
   "source": [
    "%taegis audits audit --audit-id \"<uuid>\" --assign audit --display audit"
   ]
  },
  {
   "cell_type": "code",
   "execution_count": null,
   "id": "a0cce661",
   "metadata": {
    "ExecuteTime": {
     "end_time": "2023-07-28T20:12:24.585622Z",
     "start_time": "2023-07-28T20:12:10.213279Z"
    }
   },
   "outputs": [],
   "source": [
    "%taegis audits all --assign all_audits"
   ]
  },
  {
   "cell_type": "code",
   "execution_count": null,
   "id": "bf23ccda",
   "metadata": {
    "ExecuteTime": {
     "end_time": "2023-07-28T19:30:44.275846Z",
     "start_time": "2023-07-28T19:30:42.637207Z"
    }
   },
   "outputs": [],
   "source": [
    "%taegis audits application-events --event-type alerts --assign app_events --display app_events"
   ]
  },
  {
   "cell_type": "code",
   "execution_count": null,
   "id": "65855143",
   "metadata": {
    "ExecuteTime": {
     "end_time": "2023-07-28T19:50:29.575122Z",
     "start_time": "2023-07-28T19:50:27.435043Z"
    }
   },
   "outputs": [],
   "source": [
    "%taegis audits search --event-name 'update investigation' --assign audits"
   ]
  },
  {
   "cell_type": "code",
   "execution_count": null,
   "id": "4b334212",
   "metadata": {
    "ExecuteTime": {
     "end_time": "2023-07-28T19:50:31.573052Z",
     "start_time": "2023-07-28T19:50:31.546021Z"
    },
    "scrolled": true
   },
   "outputs": [],
   "source": [
    "audits"
   ]
  },
  {
   "cell_type": "code",
   "execution_count": null,
   "id": "7e43b494",
   "metadata": {
    "ExecuteTime": {
     "end_time": "2023-07-28T19:50:34.404582Z",
     "start_time": "2023-07-28T19:50:34.384711Z"
    }
   },
   "outputs": [],
   "source": [
    "diffs = audits.pipe(get_diffs)"
   ]
  }
 ],
 "metadata": {
  "kernelspec": {
   "display_name": "Python 3 (ipykernel)",
   "language": "python",
   "name": "python3"
  },
  "language_info": {
   "codemirror_mode": {
    "name": "ipython",
    "version": 3
   },
   "file_extension": ".py",
   "mimetype": "text/x-python",
   "name": "python",
   "nbconvert_exporter": "python",
   "pygments_lexer": "ipython3",
   "version": "3.9.2"
  }
 },
 "nbformat": 4,
 "nbformat_minor": 5
}
