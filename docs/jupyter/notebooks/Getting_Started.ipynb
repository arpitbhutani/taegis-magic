{
 "cells": [
  {
   "cell_type": "code",
   "execution_count": null,
   "id": "e1ea52fc",
   "metadata": {
    "ExecuteTime": {
     "end_time": "2023-08-10T21:41:17.969504Z",
     "start_time": "2023-08-10T21:41:16.733484Z"
    }
   },
   "outputs": [],
   "source": [
    "!python -m pip install taegis-magic"
   ]
  },
  {
   "cell_type": "code",
   "execution_count": null,
   "id": "08b588f0",
   "metadata": {
    "ExecuteTime": {
     "end_time": "2023-08-10T21:41:19.773718Z",
     "start_time": "2023-08-10T21:41:17.971329Z"
    }
   },
   "outputs": [],
   "source": [
    "%load_ext taegis_magic"
   ]
  },
  {
   "cell_type": "code",
   "execution_count": null,
   "id": "4de25319",
   "metadata": {
    "ExecuteTime": {
     "end_time": "2023-08-10T21:41:19.798062Z",
     "start_time": "2023-08-10T21:41:19.775368Z"
    }
   },
   "outputs": [],
   "source": [
    "%taegis --help"
   ]
  },
  {
   "cell_type": "code",
   "execution_count": null,
   "id": "c54e25f9",
   "metadata": {
    "ExecuteTime": {
     "end_time": "2023-08-10T21:41:53.602167Z",
     "start_time": "2023-08-10T21:41:51.225607Z"
    },
    "scrolled": true
   },
   "outputs": [],
   "source": [
    "%taegis users current-user --assign me --display me"
   ]
  },
  {
   "cell_type": "code",
   "execution_count": null,
   "id": "7029973a",
   "metadata": {
    "ExecuteTime": {
     "end_time": "2023-08-10T21:43:27.044360Z",
     "start_time": "2023-08-10T21:43:20.437479Z"
    }
   },
   "outputs": [],
   "source": [
    "%%taegis alerts search --assign alerts\n",
    "FROM alert\n",
    "WHERE\n",
    "    severity >= 0.6 AND\n",
    "    status = 'OPEN' AND\n",
    "    investigation_ids IS NULL\n",
    "EARLIEST=-1d | head 5"
   ]
  },
  {
   "cell_type": "code",
   "execution_count": null,
   "id": "cdc43e6c",
   "metadata": {
    "ExecuteTime": {
     "end_time": "2023-08-10T21:43:20.436488Z",
     "start_time": "2023-08-10T21:43:12.915821Z"
    }
   },
   "outputs": [],
   "source": [
    "terms = [\n",
    "    \"mimikatz\",\n",
    "    \"Cobalt Strike\",\n",
    "    \"GOLD FIESTA\",\n",
    "]\n",
    "for term in terms:\n",
    "    %taegis threat publications search \"$term\" --append pubs"
   ]
  },
  {
   "cell_type": "code",
   "execution_count": null,
   "id": "0a92a55f",
   "metadata": {
    "ExecuteTime": {
     "end_time": "2023-08-10T21:43:31.566574Z",
     "start_time": "2023-08-10T21:43:31.563719Z"
    }
   },
   "outputs": [],
   "source": [
    "pubs.shape"
   ]
  },
  {
   "cell_type": "code",
   "execution_count": null,
   "id": "0e8c10b9",
   "metadata": {
    "ExecuteTime": {
     "end_time": "2023-08-10T21:44:26.776090Z",
     "start_time": "2023-08-10T21:44:01.545346Z"
    },
    "scrolled": true
   },
   "outputs": [],
   "source": [
    "user = \"admin\"\n",
    "query = f\"FROM process WHERE @user CONTAINS '{user}' EARLIEST=-3d\"\n",
    "%taegis events search --cell \"$query\" --assign events"
   ]
  },
  {
   "cell_type": "code",
   "execution_count": null,
   "id": "f2fed957",
   "metadata": {},
   "outputs": [],
   "source": []
  }
 ],
 "metadata": {
  "kernelspec": {
   "display_name": "Python 3 (ipykernel)",
   "language": "python",
   "name": "python3"
  },
  "language_info": {
   "codemirror_mode": {
    "name": "ipython",
    "version": 3
   },
   "file_extension": ".py",
   "mimetype": "text/x-python",
   "name": "python",
   "nbconvert_exporter": "python",
   "pygments_lexer": "ipython3",
   "version": "3.9.2"
  }
 },
 "nbformat": 4,
 "nbformat_minor": 5
}
