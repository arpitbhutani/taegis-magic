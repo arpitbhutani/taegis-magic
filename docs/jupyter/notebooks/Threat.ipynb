{
 "cells": [
  {
   "cell_type": "code",
   "execution_count": null,
   "id": "2168c9e8",
   "metadata": {
    "ExecuteTime": {
     "end_time": "2023-08-10T17:32:04.824914Z",
     "start_time": "2023-08-10T17:32:03.112409Z"
    }
   },
   "outputs": [],
   "source": [
    "%load_ext taegis_magic\n",
    "\n",
    "from IPython.display import HTML"
   ]
  },
  {
   "cell_type": "code",
   "execution_count": null,
   "id": "7a452eb3",
   "metadata": {
    "ExecuteTime": {
     "end_time": "2023-08-10T17:44:42.926041Z",
     "start_time": "2023-08-10T17:44:41.329543Z"
    }
   },
   "outputs": [],
   "source": [
    "%taegis threat publications search \"GOLD FIESTA\" --assign pubs"
   ]
  },
  {
   "cell_type": "code",
   "execution_count": null,
   "id": "44f1c3d3",
   "metadata": {
    "ExecuteTime": {
     "end_time": "2023-08-10T17:32:51.635833Z",
     "start_time": "2023-08-10T17:32:50.072900Z"
    }
   },
   "outputs": [],
   "source": [
    "%taegis threat publications latest 5 --assign pubs"
   ]
  },
  {
   "cell_type": "code",
   "execution_count": null,
   "id": "023b68d3",
   "metadata": {
    "ExecuteTime": {
     "end_time": "2023-08-10T17:33:50.802514Z",
     "start_time": "2023-08-10T17:33:50.787814Z"
    }
   },
   "outputs": [],
   "source": [
    "pubs"
   ]
  },
  {
   "cell_type": "code",
   "execution_count": null,
   "id": "0394bb1f",
   "metadata": {
    "ExecuteTime": {
     "end_time": "2023-08-10T17:34:28.568476Z",
     "start_time": "2023-08-10T17:34:28.566243Z"
    }
   },
   "outputs": [],
   "source": [
    "print(pubs.loc[0, \"taegis_magic.reference\"])"
   ]
  },
  {
   "cell_type": "code",
   "execution_count": null,
   "id": "11ebec6b",
   "metadata": {
    "ExecuteTime": {
     "end_time": "2023-08-10T17:36:28.299239Z",
     "start_time": "2023-08-10T17:36:28.295555Z"
    }
   },
   "outputs": [],
   "source": [
    "HTML(pubs.loc[0, \"content\"])"
   ]
  },
  {
   "cell_type": "code",
   "execution_count": null,
   "id": "d18be1c8",
   "metadata": {},
   "outputs": [],
   "source": []
  }
 ],
 "metadata": {
  "kernelspec": {
   "display_name": "Python 3 (ipykernel)",
   "language": "python",
   "name": "python3"
  },
  "language_info": {
   "codemirror_mode": {
    "name": "ipython",
    "version": 3
   },
   "file_extension": ".py",
   "mimetype": "text/x-python",
   "name": "python",
   "nbconvert_exporter": "python",
   "pygments_lexer": "ipython3",
   "version": "3.9.2"
  }
 },
 "nbformat": 4,
 "nbformat_minor": 5
}
