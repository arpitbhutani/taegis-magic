{
 "cells": [
  {
   "cell_type": "code",
   "execution_count": null,
   "id": "c97a0d38",
   "metadata": {
    "ExecuteTime": {
     "end_time": "2023-08-11T15:19:20.720642Z",
     "start_time": "2023-08-11T15:19:18.969542Z"
    }
   },
   "outputs": [],
   "source": [
    "%load_ext taegis_magic"
   ]
  },
  {
   "cell_type": "code",
   "execution_count": null,
   "id": "908795cf",
   "metadata": {
    "ExecuteTime": {
     "end_time": "2023-08-11T15:25:44.488231Z",
     "start_time": "2023-08-11T15:25:44.469070Z"
    }
   },
   "outputs": [],
   "source": [
    "%taegis rules suppression --help"
   ]
  },
  {
   "cell_type": "code",
   "execution_count": null,
   "id": "655cfa81",
   "metadata": {
    "ExecuteTime": {
     "end_time": "2023-08-11T15:25:44.467781Z",
     "start_time": "2023-08-11T15:24:11.187911Z"
    }
   },
   "outputs": [],
   "source": [
    "%taegis rules suppression --assign suppression_rules"
   ]
  },
  {
   "cell_type": "code",
   "execution_count": null,
   "id": "d81ed565",
   "metadata": {
    "ExecuteTime": {
     "end_time": "2023-08-11T15:25:44.492460Z",
     "start_time": "2023-08-11T15:25:44.489728Z"
    }
   },
   "outputs": [],
   "source": [
    "from taegis_magic.pandas.rules import inflate_filters"
   ]
  },
  {
   "cell_type": "code",
   "execution_count": null,
   "id": "30df1b88",
   "metadata": {
    "ExecuteTime": {
     "end_time": "2023-08-11T15:32:28.479393Z",
     "start_time": "2023-08-11T15:32:28.168881Z"
    }
   },
   "outputs": [],
   "source": [
    "inflated_suppression_rules = suppression_rules.pipe(inflate_filters)\n",
    "\n",
    "set(inflated_suppression_rules.columns).difference(set(suppression_rules.columns))"
   ]
  },
  {
   "cell_type": "code",
   "execution_count": null,
   "id": "08671ce6",
   "metadata": {},
   "outputs": [],
   "source": []
  }
 ],
 "metadata": {
  "kernelspec": {
   "display_name": "Python 3 (ipykernel)",
   "language": "python",
   "name": "python3"
  },
  "language_info": {
   "codemirror_mode": {
    "name": "ipython",
    "version": 3
   },
   "file_extension": ".py",
   "mimetype": "text/x-python",
   "name": "python",
   "nbconvert_exporter": "python",
   "pygments_lexer": "ipython3",
   "version": "3.9.2"
  }
 },
 "nbformat": 4,
 "nbformat_minor": 5
}
